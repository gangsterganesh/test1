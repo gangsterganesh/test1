{
  "nbformat": 4,
  "nbformat_minor": 0,
  "metadata": {
    "colab": {
      "provenance": [],
      "mount_file_id": "1v1ekRT4DaqT23gdKYOWXicyipok_WHZc",
      "authorship_tag": "ABX9TyPnurfVlXRn9U04zC1Rm38E",
      "include_colab_link": true
    },
    "kernelspec": {
      "name": "python3",
      "display_name": "Python 3"
    },
    "language_info": {
      "name": "python"
    }
  },
  "cells": [
    {
      "cell_type": "markdown",
      "metadata": {
        "id": "view-in-github",
        "colab_type": "text"
      },
      "source": [
        "<a href=\"https://colab.research.google.com/github/gangsterganesh/test1/blob/main/A1(a).ipynb\" target=\"_parent\"><img src=\"https://colab.research.google.com/assets/colab-badge.svg\" alt=\"Open In Colab\"/></a>"
      ]
    },
    {
      "cell_type": "code",
      "execution_count": null,
      "metadata": {
        "id": "8VHC2wyafqs7"
      },
      "outputs": [],
      "source": [
        "import numpy as np\n",
        "import pandas as pd"
      ]
    },
    {
      "cell_type": "code",
      "source": [
        "data_df = pd.read_csv('/content/drive/MyDrive/Colab Notebooks/NSSO1.csv')\n",
        "data_df.head()"
      ],
      "metadata": {
        "id": "bR5g0UOUf3eR"
      },
      "execution_count": null,
      "outputs": []
    },
    {
      "cell_type": "code",
      "source": [
        "data_df.tail()"
      ],
      "metadata": {
        "id": "_0Mf178bgCt5"
      },
      "execution_count": null,
      "outputs": []
    },
    {
      "cell_type": "code",
      "source": [
        "data_df.dtypes"
      ],
      "metadata": {
        "id": "LmjLeuvMWRhj"
      },
      "execution_count": null,
      "outputs": []
    },
    {
      "cell_type": "markdown",
      "source": [
        "1.Check if there are any missing values in the data, identify them and if there are replace them with the mean of the variable."
      ],
      "metadata": {
        "id": "iINLcaQLXUSr"
      }
    },
    {
      "cell_type": "code",
      "source": [
        "missing_values = data_df.isnull().sum()\n",
        "columns_missing_values = missing_values[missing_values > 0]\n",
        "print(columns_missing_values)"
      ],
      "metadata": {
        "id": "ZXxXeLcnXPqr"
      },
      "execution_count": null,
      "outputs": []
    },
    {
      "cell_type": "code",
      "source": [
        "columns_to_fill = columns_missing_values.index\n",
        "data_df[columns_to_fill] = data_df[columns_to_fill].fillna(data_df.mean())"
      ],
      "metadata": {
        "id": "e993LDQWgo1y"
      },
      "execution_count": null,
      "outputs": []
    },
    {
      "cell_type": "code",
      "source": [
        "missing_values = data_df.isnull().sum()\n",
        "columns_missing_values = missing_values[missing_values > 0]\n",
        "print(columns_missing_values)"
      ],
      "metadata": {
        "id": "Zy3Sn-rUft9X"
      },
      "execution_count": null,
      "outputs": []
    },
    {
      "cell_type": "code",
      "source": [
        "data_df.drop(['soyabean_q', 'soyabean_v'], axis=1, inplace=True)"
      ],
      "metadata": {
        "id": "I_o4Aoipj4xR"
      },
      "execution_count": null,
      "outputs": []
    },
    {
      "cell_type": "code",
      "source": [
        "missing_values = data_df.isnull().sum()\n",
        "columns_missing_values = missing_values[missing_values > 0]\n",
        "print(columns_missing_values)"
      ],
      "metadata": {
        "id": "VHJpRvG7oIg8"
      },
      "execution_count": null,
      "outputs": []
    },
    {
      "cell_type": "markdown",
      "source": [
        "2. Check for outliers and describe the outcome of your test and make suitable amendments."
      ],
      "metadata": {
        "id": "v0rDOFw0ousL"
      }
    },
    {
      "cell_type": "code",
      "source": [
        "import matplotlib.pyplot as plt\n",
        "import seaborn as sns"
      ],
      "metadata": {
        "id": "jdl1ZXscoz2-"
      },
      "execution_count": null,
      "outputs": []
    },
    {
      "cell_type": "code",
      "source": [
        "columns = ['ricetotal_q', 'wheattotal_q','fruitt_total','Beveragestotal_q','sugartotal_q']\n",
        "for col in columns:\n",
        "    plt.figure()\n",
        "    plt.boxplot(data_df[col])\n",
        "    plt.xlabel(col)\n",
        "    plt.ylabel('Values')\n",
        "    plt.title(f'Box Plot of {col}')\n",
        "    plt.show()"
      ],
      "metadata": {
        "id": "41iq0k-pqju8"
      },
      "execution_count": null,
      "outputs": []
    },
    {
      "cell_type": "markdown",
      "source": [
        "3.Rename the districts as well as the sector, viz. rural and urban."
      ],
      "metadata": {
        "id": "Nab8mGZnuQaN"
      }
    },
    {
      "cell_type": "code",
      "source": [
        "data_df['Sector'] = data_df['Sector'].replace({1: 'urban', 2: 'rural'})\n",
        "data_df['District']=data_df['District'].replace({ 1: 'Bishnupur',\n",
        "    2: 'Chandel',\n",
        "    3: 'Churachandpur',\n",
        "    4: 'Imphal East',\n",
        "    5: 'Imphal West',\n",
        "    6: 'Senapati',\n",
        "    7: 'Tamenglong',\n",
        "    8: 'Thoubal',\n",
        "    9: 'Ukhrul'\n",
        "})\n",
        "print(data_df)"
      ],
      "metadata": {
        "id": "lDEzR2az45cd"
      },
      "execution_count": null,
      "outputs": []
    },
    {
      "cell_type": "code",
      "source": [
        "selected_columns = ['state_1','District', 'Sector',]\n",
        "df_selected = data_df[selected_columns]\n",
        "\n",
        "# Print the selected columns\n",
        "print(df_selected)"
      ],
      "metadata": {
        "id": "t4yLlYSlLJ2f"
      },
      "execution_count": null,
      "outputs": []
    },
    {
      "cell_type": "markdown",
      "source": [
        "4.Summarize the critical variables in the data set region wise and district wise and indicate the top three districts and the bottom three districts of consumption."
      ],
      "metadata": {
        "id": "u7MTdsXc29ll"
      }
    },
    {
      "cell_type": "code",
      "source": [
        "region_stats = data_df.groupby('Region').agg({\n",
        "    'ricetotal_q': 'mean',\n",
        "    'fruitt_total': 'mean',\n",
        "    'Beveragestotal_q': 'mean',\n",
        "    'sugartotal_q': 'mean',\n",
        "})\n",
        "\n",
        "# Group by district and calculate summary statistics for critical variables\n",
        "district_stats = data_df.groupby('District').agg({\n",
        "    'ricetotal_q': 'mean',\n",
        "    'fruitt_total': 'mean',\n",
        "    'Beveragestotal_q': 'mean',\n",
        "    'sugartotal_q': 'mean',\n",
        "})\n",
        "\n",
        "# Sort districts based on consumption of ricetotal_q variable\n",
        "sorted_districts = district_stats.sort_values('ricetotal_q', ascending=False)\n",
        "\n",
        "# Get the top three and bottom three districts based on ricetotal_q consumption\n",
        "top_three_districts = sorted_districts.head(3)\n",
        "bottom_three_districts = sorted_districts.tail(3)\n",
        "\n",
        "# Print the summary statistics and top/bottom districts\n",
        "print(\"Region-wise summary statistics for critical variables:\")\n",
        "print(region_stats)\n",
        "\n",
        "print(\"\\nDistrict-wise summary statistics for critical variables:\")\n",
        "print(district_stats)\n",
        "\n",
        "print(\"\\nTop three districts with highest ricetotal_q consumption:\")\n",
        "print(top_three_districts)\n",
        "\n",
        "print(\"\\nBottom three districts with lowest ricetotal_q consumption:\")\n",
        "print(bottom_three_districts)"
      ],
      "metadata": {
        "id": "ozvnoSMn-CP0"
      },
      "execution_count": null,
      "outputs": []
    },
    {
      "cell_type": "markdown",
      "source": [
        "5.Test whether the differences in the means are significant or not."
      ],
      "metadata": {
        "id": "3TrdLDtd-WeD"
      }
    },
    {
      "cell_type": "code",
      "source": [
        "import scipy.stats as stats\n",
        "\n",
        "# Group data by the variable of interest\n",
        "group1 = data_df[data_df['Beveragestotal_q'] == 'Group 1']['Education']\n",
        "group2 = data_df[data_df['sugartotal_q'] == 'Group 2']['Age']\n",
        "group3 = data_df[data_df['edibletotal_q'] == 'Group 3']['Marital_Status']\n",
        "\n",
        "# Perform one-way ANOVA\n",
        "f_statistic, p_value = stats.f_oneway(group1, group2, group3)\n",
        "\n",
        "# Print the test result\n",
        "if p_value < 0.05:\n",
        "    print(\"The differences in means are statistically significant.\")\n",
        "else:\n",
        "    print(\"The differences in means are not statistically significant.\")"
      ],
      "metadata": {
        "id": "XU_4mf-Y-R1i",
        "colab": {
          "base_uri": "https://localhost:8080/"
        },
        "outputId": "e75fd246-f23c-4e4e-cf58-ac4944a4123e"
      },
      "execution_count": null,
      "outputs": [
        {
          "output_type": "stream",
          "name": "stdout",
          "text": [
            "The differences in means are not statistically significant.\n"
          ]
        },
        {
          "output_type": "stream",
          "name": "stderr",
          "text": [
            "/usr/local/lib/python3.10/dist-packages/scipy/stats/_stats_py.py:3861: DegenerateDataWarning: at least one input has length 0\n",
            "  warnings.warn(stats.DegenerateDataWarning('at least one input '\n"
          ]
        }
      ]
    }
  ]
}